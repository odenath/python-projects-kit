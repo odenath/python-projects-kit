{
 "cells": [
  {
   "cell_type": "markdown",
   "metadata": {},
   "source": [
    "# Python Insights - Analisando Dados com Python\n",
    "\n",
    "### Case - Cancelamento de Clientes\n",
    "\n",
    "Você foi contratado por uma empresa com mais de 800 mil clientes para um projeto de Dados. Recentemente a empresa percebeu que da sua base total de clientes, a maioria são clientes inativos, ou seja, que já cancelaram o serviço.\n",
    "\n",
    "Precisando melhorar seus resultados ela quer conseguir entender os principais motivos desses cancelamentos e quais as ações mais eficientes para reduzir esse número.\n"
   ]
  },
  {
   "cell_type": "code",
   "execution_count": null,
   "metadata": {},
   "outputs": [],
   "source": [
    "# Passoa a passo\n",
    "# 1. Importar a base de dados\n",
    "\n",
    "import pandas as pd\n",
    "\n",
    "tabela = pd.read_csv(\"cancelamentos.csv\")\n",
    "\n",
    "# Passo 2: Visualizar a base de dados\n",
    "\n",
    "display(tabela)"
   ]
  },
  {
   "cell_type": "code",
   "execution_count": null,
   "metadata": {},
   "outputs": [],
   "source": [
    "# Passo 3: Tratamento de dados\n",
    "# - Valores que estão vazios\n",
    "\n",
    "tabela = tabela.dropna() # Apaga as colunas vazias\n",
    "display(tabela)\n",
    "\n",
    "# - Valores que estão incorretos\n",
    "# - Valores que não ajudam atrapalham\n",
    "\n",
    "tabela = tabela.drop(\"CustomerID\", axis=1) # Apaga a coluna inteira\n",
    "display(tabela)\n",
    "\n",
    "\n"
   ]
  },
  {
   "cell_type": "code",
   "execution_count": null,
   "metadata": {},
   "outputs": [],
   "source": [
    "# Passo 4: Análise inicial dos dados\n",
    "\n",
    "# # então descobrimos que contrato mensal é ruim, vamos tirar ele e continuar analisando\n",
    "# tabela = tabela[tabela[\"duracao_contrato\"]!=\"Monthly\"]\n",
    "\n",
    "display(tabela[\"cancelou\"].value_counts(normalize=True).map(\"{:.1%}\".format)) # Mostra a porcentagem de cancelamentos\n",
    "\n",
    "\n",
    "display(tabela[\"duracao_contrato\"].value_counts(normalize=True).map(\"{:.1%}\".format)) # Mostra a porcentagem de cancelamentos por duração de contrato\n",
    "\n",
    "\n",
    "display(tabela.groupby(\"duracao_contrato\").mean(numeric_only=True)) # Mostra a média de cancelamentos por duração de contrato\n",
    "display(tabela.groupby(\"assinatura\").mean(numeric_only=True)) # Mostra a média de cancelamentos por assinatura \n",
    "\n",
    "\n"
   ]
  },
  {
   "cell_type": "code",
   "execution_count": null,
   "metadata": {},
   "outputs": [],
   "source": [
    "# Passo 5: Análise mais completa\n",
    "import plotly.express as px\n",
    "\n",
    "\n",
    "display(tabela)\n",
    "\n",
    "# grafico = px.histogram(tabela, x=\"assinatura\", color=\"cancelou\")\n",
    "# grafico.show()\n",
    "\n",
    "grafico = px.histogram(tabela, x=\"assinatura\", color=\"cancelou\")\n",
    "grafico.show()\n",
    "\n",
    "\n",
    "for coluna in tabela.columns:\n",
    "    grafico = px.histogram(tabela, x=coluna, color=\"cancelou\")\n",
    "    grafico.show()\n",
    "\n"
   ]
  },
  {
   "cell_type": "code",
   "execution_count": null,
   "metadata": {},
   "outputs": [],
   "source": [
    "#RESULTADOS\n",
    "# 1. Quanto mais tempo de contrato, menor a taxa de cancelamento ; Mensal precisa ser diminuido\n",
    "# 2. Dias de atraso maiores que 20 geram mais cancelamentos ; Atrasos precisam ser diminuidos\n",
    "# 3. Ligações no call center maiores que 5 geram mais cancelamentos ; Ligações precisam ser diminuidas"
   ]
  },
  {
   "cell_type": "code",
   "execution_count": null,
   "metadata": {},
   "outputs": [],
   "source": [
    "display(tabela)"
   ]
  },
  {
   "cell_type": "code",
   "execution_count": null,
   "metadata": {},
   "outputs": [],
   "source": [
    "tabela = tabela[tabela[\"duracao_contrato\"] != \"Monthly\"]\n",
    "tabela = tabela[tabela[\"dias_atraso\"] < 20]\n",
    "tabela = tabela[tabela[\"ligacoes_callcenter\"] < 5]\n",
    "display(tabela)"
   ]
  },
  {
   "cell_type": "code",
   "execution_count": null,
   "metadata": {},
   "outputs": [],
   "source": [
    "display(tabela[\"cancelou\"].value_counts(normalize=True).map(\"{:.1%}\".format)) # Mostra a porcentagem de cancelamentos\n",
    "\n",
    "# Passo 6: Conclusão\n",
    "# Reduzimos a porcentagem de cancelamentos de 56,7% para 18,4%"
   ]
  }
 ],
 "metadata": {
  "kernelspec": {
   "display_name": "base",
   "language": "python",
   "name": "python3"
  },
  "language_info": {
   "codemirror_mode": {
    "name": "ipython",
    "version": 3
   },
   "file_extension": ".py",
   "mimetype": "text/x-python",
   "name": "python",
   "nbconvert_exporter": "python",
   "pygments_lexer": "ipython3",
   "version": "3.10.11"
  },
  "orig_nbformat": 4
 },
 "nbformat": 4,
 "nbformat_minor": 2
}
